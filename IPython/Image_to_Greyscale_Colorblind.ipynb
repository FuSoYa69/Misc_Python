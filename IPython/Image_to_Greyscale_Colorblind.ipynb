{
 "cells": [
  {
   "cell_type": "code",
   "execution_count": 1,
   "metadata": {
    "collapsed": false
   },
   "outputs": [
    {
     "name": "stdout",
     "output_type": "stream",
     "text": [
      "Populating the interactive namespace from numpy and matplotlib\n"
     ]
    }
   ],
   "source": [
    "%pylab inline"
   ]
  },
  {
   "cell_type": "code",
   "execution_count": 48,
   "metadata": {
    "collapsed": false
   },
   "outputs": [
    {
     "data": {
      "image/png": "[encoded data removed]",
      "text/plain": [
       "<matplotlib.figure.Figure at 0x10dc011d0>"
      ]
     },
     "metadata": {},
     "output_type": "display_data"
    },
    {
     "data": {
      "image/png": "[encoded data removed]",
      "text/plain": [
       "<matplotlib.figure.Figure at 0x10c9cda58>"
      ]
     },
     "metadata": {},
     "output_type": "display_data"
    },
    {
     "data": {
      "image/png": "[encoded data removed]",
      "text/plain": [
       "<matplotlib.figure.Figure at 0x10c9dff28>"
      ]
     },
     "metadata": {},
     "output_type": "display_data"
    },
    {
     "data": {
      "image/png": "[encoded data removed]",
      "text/plain": [
       "<matplotlib.figure.Figure at 0x10daf53c8>"
      ]
     },
     "metadata": {},
     "output_type": "display_data"
    },
    {
     "data": {
      "image/png": "[encoded data removed]",
      "text/plain": [
       "<matplotlib.figure.Figure at 0x1167df7f0>"
      ]
     },
     "metadata": {},
     "output_type": "display_data"
    }
   ],
   "source": [
    "\n",
    "import numpy as np\n",
    "import matplotlib.pyplot as plt\n",
    "import matplotlib.image as mpimg\n",
    "\n",
    "# From http://stackoverflow.com/questions/12201577/how-can-i-convert-an-rgb-image-into-grayscale-in-python\n",
    "def rgb2gray(rgb):\n",
    "    return np.dot(rgb, [0.299, 0.587, 0.114])\n",
    "\n",
    "def rgb2colorblind(rgb, mode = 1):\n",
    "    # Conversions from https://gist.github.com/jcdickinson/580b7fb5cc145cee8740\n",
    "    assert(mode == 1 or mode == 2 or mode == 3)\n",
    "    L = np.dot(rgb, [17.8824000, 43.516100, 4.11935])\n",
    "    M = np.dot(rgb, [ 3.4556500, 27.155400, 3.86714])\n",
    "    S = np.dot(rgb, [ 0.0299566,  0.184309, 1.46709])\n",
    "    # Protanope - reds are greatly reduced (1% men)\n",
    "    if(mode == 1):\n",
    "        l = 0.0 * L + 2.02344 * M + -2.52581 * S;\n",
    "        m = 0.0 * L + 1.0 * M + 0.0 * S;\n",
    "        s = 0.0 * L + 0.0 * M + 1.0 * S;\n",
    "    # Deuteranope - greens are greatly reduced (1% men)\n",
    "    elif(mode == 2):\n",
    "        l = 1.0 * L + 0.0 * M + 0.0 * S;\n",
    "        m = 0.494207 * L + 0.0 * M + 1.24827 * S;\n",
    "        s = 0.0 *  + 0.0 * M + 1.0 * S;\n",
    "    # Tritanope - blues are greatly reduced (0.003% population)\n",
    "    elif(mode == 3):\n",
    "        l = 1.0 * L + 0.0 * M + 0.0 * S;\n",
    "        m = 0.0 * L + 1.0 * M + 0.0 * S;\n",
    "        s = -0.395913 * L + 0.801109 * M + 0.0 * S;\n",
    "    r = (0.0809444479 * l) + (-0.130504409 * m) + (0.116721066 * s);\n",
    "    g = (-0.0102485335 * l) + (0.0540193266 * m) + (-0.113614708 * s);\n",
    "    b = (-0.000365296938 * l) + (-0.00412161469 * m) + (0.693511405 * s);\n",
    "    return np.dstack((r,g,b))\n",
    "\n",
    "img = mpimg.imread('test.png')     \n",
    "gray = rgb2gray(img)    \n",
    "cb1 = rgb2colorblind(img, mode = 1)\n",
    "cb2 = rgb2colorblind(img, mode = 2)\n",
    "cb3 = rgb2colorblind(img, mode = 3)\n",
    "plt.imshow(img, interpolation='none')\n",
    "plt.show()\n",
    "plt.imshow(gray, cmap = plt.get_cmap('gray'), interpolation='none')\n",
    "plt.show()\n",
    "plt.imshow(cb1, interpolation=\"none\")\n",
    "plt.show()\n",
    "plt.imshow(cb2, interpolation=\"none\")\n",
    "plt.show()\n",
    "plt.imshow(cb3, interpolation=\"none\")\n",
    "plt.show()\n",
    "\n",
    "\n",
    "\n",
    "\n"
   ]
  },
  {
   "cell_type": "code",
   "execution_count": null,
   "metadata": {
    "collapsed": true
   },
   "outputs": [],
   "source": []
  }
 ],
 "metadata": {
  "kernelspec": {
   "display_name": "Python [Root]",
   "language": "python",
   "name": "Python [Root]"
  },
  "language_info": {
   "codemirror_mode": {
    "name": "ipython",
    "version": 3
   },
   "file_extension": ".py",
   "mimetype": "text/x-python",
   "name": "python",
   "nbconvert_exporter": "python",
   "pygments_lexer": "ipython3",
   "version": "3.5.2"
  }
 },
 "nbformat": 4,
 "nbformat_minor": 0
}

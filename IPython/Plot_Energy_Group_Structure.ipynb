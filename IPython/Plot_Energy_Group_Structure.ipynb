{
 "metadata": {
  "name": "",
  "signature": "sha256:a913c0757a6d3fc4f5b8266a354af1b62d9ab5bc1887516f7005580e0607f664"
 },
 "nbformat": 3,
 "nbformat_minor": 0,
 "worksheets": [
  {
   "cells": [
    {
     "cell_type": "code",
     "collapsed": false,
     "input": [
      "%matplotlib inline\n",
      "import matplotlib.pyplot as plt\n",
      "from mpl_toolkits.axes_grid.axislines import Subplot\n",
      "import numpy as np\n",
      "import math\n",
      "import glob\n",
      "import re\n",
      "#\n",
      "figuresize = 8\n",
      "plt.rcParams['figure.figsize'] = (1+math.sqrt(5))/2*figuresize, figuresize\n",
      "plt.rcParams['figure.dpi'] = 100\n",
      "plt.rcParams['font.size'] = 20\n",
      "plt.rcParams['font.family'] = \"serif\"\n",
      "plt.rcParams['text.usetex'] = \"True\""
     ],
     "language": "python",
     "metadata": {},
     "outputs": [],
     "prompt_number": 2
    },
    {
     "cell_type": "code",
     "collapsed": false,
     "input": [
      "grp_bnd_BUGLEB7   = [1.7332E+07, 1.4191E+07, 1.2214E+07, 1.0000E+07, 8.6071E+06, 7.4082E+06, 6.0653E+06, 4.9658E+06, 3.6788E+06, 3.0119E+06, 2.7253E+06, 2.4660E+06, 2.3652E+06, 2.3457E+06, 2.2313E+06, 1.9205E+06, 1.6530E+06, 1.3534E+06, 1.0026E+06, 8.2085E+05, 7.4274E+05, 6.0810E+05, 4.9787E+05, 3.6883E+05, 2.9721E+05, 1.8316E+05, 1.1109E+05, 6.7379E+04, 4.0868E+04, 3.1828E+04, 2.6058E+04, 2.4176E+04, 2.1875E+04, 1.5034E+04, 7.1017E+03, 3.3546E+03, 1.5846E+03, 4.5400E+02, 2.1445E+02, 1.0130E+02, 3.7267E+01, 1.0677E+01, 5.0435E+00, 1.8554E+00, 8.7643E-01, 4.1399E-01, 1.0000E-01, 1.0000E-05]\n",
      "grp_bnd_HELIOS    = [2.000000E+07, 6.065300E+06, 3.678800E+06, 2.231299E+06, 1.353400E+06, 8.208500E+05, 4.978702E+05, 1.831601E+05, 6.737900E+04, 9.118801E+03, 2.034700E+03, 1.300704E+02, 7.889325E+01, 4.785117E+01, 2.902291E+01, 1.371000E+01, 1.209903E+01, 8.315287E+00, 7.338215E+00, 6.476017E+00, 5.715008E+00, 5.043477E+00, 4.450897E+00, 3.927903E+00, 2.382393E+00, 1.855391E+00, 1.457402E+00, 1.235105E+00, 1.166404E+00, 1.125397E+00, 1.072203E+00, 1.013699E+00, 9.710043E-01, 9.099967E-01, 7.820830E-01, 6.250621E-01, 5.032318E-01, 3.576701E-01, 2.705213E-01, 1.844302E-01, 1.457206E-01, 1.115699E-01, 8.196816E-02, 5.692194E-02, 4.275520E-02, 3.061288E-02, 1.239596E-02, 0.000000E+00]\n",
      "grp_bnd_VITAMINB7 = [1.9640E+07, 1.7332E+07, 1.6905E+07, 1.6487E+07, 1.5683E+07, 1.4918E+07, 1.4550E+07, 1.4191E+07, 1.3840E+07, 1.3499E+07, 1.2840E+07, 1.2523E+07, 1.2214E+07, 1.1618E+07, 1.1052E+07, 1.0513E+07, 1.0000E+07, 9.5123E+06, 9.0484E+06, 8.6071E+06, 8.1873E+06, 7.7880E+06, 7.4082E+06, 7.0469E+06, 6.7032E+06, 6.5924E+06, 6.3763E+06, 6.0653E+06, 5.7695E+06, 5.4881E+06, 5.2205E+06, 4.9659E+06, 4.7237E+06, 4.4933E+06, 4.0657E+06, 3.6788E+06, 3.3287E+06, 3.1664E+06, 3.0119E+06, 2.8651E+06, 2.7253E+06, 2.5924E+06, 2.4660E+06, 2.3852E+06, 2.3653E+06, 2.3457E+06, 2.3069E+06, 2.2313E+06, 2.1225E+06, 2.0190E+06, 1.9205E+06, 1.8268E+06, 1.7377E+06, 1.6530E+06, 1.5724E+06, 1.4957E+06, 1.4227E+06, 1.3534E+06, 1.2874E+06, 1.2246E+06, 1.1648E+06, 1.1080E+06, 1.0026E+06, 9.6164E+05, 9.0718E+05, 8.6294E+05, 8.2085E+05, 7.8082E+05, 7.4274E+05, 7.0651E+05, 6.7206E+05, 6.3928E+05, 6.0810E+05, 5.7844E+05, 5.5023E+05, 5.2340E+05, 4.9787E+05, 4.5049E+05, 4.0762E+05, 3.8774E+05, 3.6883E+05, 3.3373E+05, 3.0197E+05, 2.9849E+05, 2.9721E+05, 2.9452E+05, 2.8725E+05, 2.7324E+05, 2.4724E+05, 2.3518E+05, 2.2371E+05, 2.1280E+05, 2.0242E+05, 1.9255E+05, 1.8316E+05, 1.7422E+05, 1.6573E+05, 1.5764E+05, 1.4996E+05, 1.4264E+05, 1.3569E+05, 1.2907E+05, 1.2277E+05, 1.1679E+05, 1.1109E+05, 9.8037E+04, 8.6517E+04, 8.2503E+04, 7.9499E+04, 7.1998E+04, 6.7379E+04, 5.6562E+04, 5.2475E+04, 4.6309E+04, 4.0868E+04, 3.4307E+04, 3.1828E+04, 2.8501E+04, 2.7000E+04, 2.6058E+04, 2.4788E+04, 2.4176E+04, 2.3579E+04, 2.1875E+04, 1.9305E+04, 1.5034E+04, 1.1709E+04, 1.0595E+04, 9.1188E+03, 7.1017E+03, 5.5308E+03, 4.3074E+03, 3.7074E+03, 3.3546E+03, 3.0354E+03, 2.7465E+03, 2.6126E+03, 2.4852E+03, 2.2487E+03, 2.0347E+03, 1.5846E+03, 1.2341E+03, 9.6112E+02, 7.4852E+02, 5.8295E+02, 4.5400E+02, 3.5357E+02, 2.7536E+02, 2.1445E+02, 1.6702E+02, 1.3007E+02, 1.0130E+02, 7.8893E+01, 6.1442E+01, 4.7851E+01, 3.7266E+01, 2.9023E+01, 2.2603E+01, 1.7604E+01, 1.3710E+01, 1.0677E+01, 8.3153E+00, 6.4760E+00, 5.0435E+00, 3.9279E+00, 3.0590E+00, 2.3824E+00, 1.8554E+00, 1.4450E+00, 1.3000E+00, 1.1253E+00, 1.0800E+00, 1.0400E+00, 1.0000E+00, 8.7643E-01, 8.0000E-01, 6.8256E-01, 6.2506E-01, 5.3158E-01, 5.0000E-01, 4.1399E-01, 3.6680E-01, 3.2500E-01, 2.7500E-01, 2.2500E-01, 1.8400E-01, 1.5000E-01, 1.2500E-01, 1.0000E-01, 7.0000E-02, 5.0000E-02, 4.0000E-02, 3.0000E-02, 2.1000E-02, 1.4500E-02, 1.0000E-02, 5.0000E-03, 2.0000E-03, 5.0000E-04, 1.0000E-05]\n",
      "grp_bnd_XMAS_172  = [1.964E+07, 1.733E+07, 1.492E+07, 1.384E+07, 1.162E+07, 1.000E+07, 8.187E+06, 6.703E+06, 6.065E+06, 5.488E+06, 4.493E+06, 3.679E+06, 3.012E+06, 2.466E+06, 2.231E+06, 2.019E+06, 1.653E+06, 1.353E+06, 1.225E+06, 1.108E+06, 1.003E+06, 9.072E+05, 8.209E+05, 6.081E+05, 5.502E+05, 4.979E+05, 4.505E+05, 4.076E+05, 3.020E+05, 2.732E+05, 2.472E+05, 1.832E+05, 1.228E+05, 1.111E+05, 8.230E+04, 6.738E+04, 5.517E+04, 4.087E+04, 3.698E+04, 2.928E+04, 2.739E+04, 2.479E+04, 1.662E+04, 1.503E+04, 1.114E+04, 9.119E+03, 7.466E+03, 5.531E+03, 5.005E+03, 3.527E+03, 3.355E+03, 2.249E+03, 2.035E+03, 1.507E+03, 1.434E+03, 1.234E+03, 1.010E+03, 9.142E+02, 7.485E+02, 6.773E+02, 4.540E+02, 3.717E+02, 3.043E+02, 2.040E+02, 1.486E+02, 1.367E+02, 9.166E+01, 7.567E+01, 6.790E+01, 5.560E+01, 5.158E+01, 4.825E+01, 4.552E+01, 4.017E+01, 3.727E+01, 3.372E+01, 3.051E+01, 2.761E+01, 2.498E+01, 2.260E+01, 1.945E+01, 1.593E+01, 1.371E+01, 1.122E+01, 9.906E+00, 9.190E+00, 8.315E+00, 7.524E+00, 6.160E+00, 5.346E+00, 5.043E+00, 4.129E+00, 4.000E+00, 3.381E+00, 3.300E+00, 2.768E+00, 2.720E+00, 2.600E+00, 2.550E+00, 2.360E+00, 2.130E+00, 2.100E+00, 2.020E+00, 1.930E+00, 1.840E+00, 1.755E+00, 1.670E+00, 1.590E+00, 1.500E+00, 1.475E+00, 1.445E+00, 1.370E+00, 1.338E+00, 1.300E+00, 1.235E+00, 1.170E+00, 1.150E+00, 1.125E+00, 1.110E+00, 1.097E+00, 1.071E+00, 1.045E+00, 1.035E+00, 1.020E+00, 9.960E-01, 9.860E-01, 9.720E-01, 9.500E-01, 9.300E-01, 9.100E-01, 8.600E-01, 8.500E-01, 7.900E-01, 7.800E-01, 7.050E-01, 6.250E-01, 5.400E-01, 5.000E-01, 4.850E-01, 4.330E-01, 4.000E-01, 3.910E-01, 3.500E-01, 3.200E-01, 3.145E-01, 3.000E-01, 2.800E-01, 2.480E-01, 2.200E-01, 1.890E-01, 1.800E-01, 1.600E-01, 1.400E-01, 1.340E-01, 1.150E-01, 1.000E-01, 9.500E-02, 8.000E-02, 7.700E-02, 6.700E-02, 5.800E-02, 5.000E-02, 4.200E-02, 3.500E-02, 3.000E-02, 2.500E-02, 2.000E-02, 1.500E-02, 1.000E-02, 6.900E-03, 5.000E-03, 3.000E-03]  \n",
      "  \n",
      "#print(grp_bnd_VITAMINB7)"
     ],
     "language": "python",
     "metadata": {},
     "outputs": [],
     "prompt_number": 4
    },
    {
     "cell_type": "heading",
     "level": 1,
     "metadata": {},
     "source": [
      "Plot Only Energy Group Boundaries"
     ]
    },
    {
     "cell_type": "code",
     "collapsed": false,
     "input": [
      "fig = plt.figure()\n",
      "\n",
      "ax = Subplot(fig, 111)\n",
      "fig.add_subplot(ax)\n",
      "\n",
      "ax.axis[\"right\"].set_visible(False)\n",
      "ax.axis[\"left\"].set_visible(False)\n",
      "ax.axis[\"top\"].set_visible(False)\n",
      "ax.set_xscale('log')\n",
      "\n",
      "plt.xlabel('Neutron Energy [eV]')\n",
      "plt.title('')\n",
      "\n",
      "libs_to_plot = {'BUGLE-B7' : grp_bnd_BUGLEB7, \n",
      "                'HELIOS'      : grp_bnd_HELIOS,\n",
      "                'VITAMIN-B7'  : grp_bnd_VITAMINB7,\n",
      "                'XMAS-172'    : grp_bnd_XMAS_172}\n",
      "\n",
      "series = 0\n",
      "\n",
      "for n,i in sorted(libs_to_plot.items()):\n",
      "    series = series + 1\n",
      "    plt.text(np.max(np.max(libs_to_plot.values()))*10,series,n, verticalalignment='center', horizontalalignment='left')\n",
      "    for j in i:\n",
      "        plt.plot([j,j],[series-0.45,series+0.45], 'k-', lw=1)\n",
      "\n",
      "plt.savefig(\"Plot_Energy_Group_Structure.png\", dpi=fig.dpi, bbox_inches=\"tight\")"
     ],
     "language": "python",
     "metadata": {},
     "outputs": [
      {
       "metadata": {},
       "output_type": "display_data",
       "png": "[encoded data removed]",
       "text": [
        "<matplotlib.figure.Figure at 0x1069b9910>"
       ]
      }
     ],
     "prompt_number": 5
    },
    {
     "cell_type": "heading",
     "level": 1,
     "metadata": {},
     "source": [
      "Plot Cross Section Data Overlaid on Boundaries"
     ]
    },
    {
     "cell_type": "code",
     "collapsed": false,
     "input": [
      "import csv \n",
      "\n",
      "xs_energy = []\n",
      "xs_micros = []\n",
      "with open('ENDFB-VII1_Fe-56_MT_102.csv', 'rb') as csvfile:\n",
      "    xsdata = csv.reader(csvfile, delimiter=',')\n",
      "    for row in xsdata:\n",
      "        xs_energy.append(float(row[0]))\n",
      "        xs_micros.append(float(row[1]))\n",
      "        #print(row[0], row[1])\n",
      "    \n",
      "fig = plt.figure()\n",
      "\n",
      "ax = Subplot(fig, 111)\n",
      "fig.add_subplot(ax)\n",
      "\n",
      "ax.axis[\"right\"].set_visible(False)\n",
      "ax.axis[\"top\"].set_visible(False)\n",
      "ax.set_xscale('log')\n",
      "ax.set_yscale('log')\n",
      "\n",
      "plt.xlabel('Neutron Energy [eV]')\n",
      "plt.title('')\n",
      "\n",
      "plt.xlim(1e-5, 1e8)\n",
      "\n",
      "plt.plot(xs_energy, xs_micros, color = '#ff0000')\n",
      "\n",
      "libs_to_plot = {'BUGLE-B7' : grp_bnd_BUGLEB7, \n",
      "                'HELIOS'      : grp_bnd_HELIOS,\n",
      "                'VITAMIN-B7'  : grp_bnd_VITAMINB7}\n",
      "\n",
      "ymin, ymax = plt.ylim()\n",
      "ely = np.logspace(np.log10(ymin), np.log10(ymax), num=len(libs_to_plot)+1)\n",
      "\n",
      "series = 0\n",
      "\n",
      "for n,i in sorted(libs_to_plot.items()):\n",
      "    series = series + 1\n",
      "    plt.text(np.max(np.max(libs_to_plot.values()))*10,\n",
      "             np.power(10,(np.log10(ely[series-1])+np.log10(ely[series]))/2),\n",
      "             n, \n",
      "             verticalalignment='center', horizontalalignment='left')\n",
      "    for j in i:\n",
      "        plt.plot([j,j],[ely[series-1],ely[series]], 'k-', lw=1)\n",
      "\n",
      "plt.savefig(\"Plot_Energy_Group_Structure_with_XS.png\", dpi=fig.dpi, bbox_inches=\"tight\")"
     ],
     "language": "python",
     "metadata": {},
     "outputs": [
      {
       "ename": "IOError",
       "evalue": "[Errno 2] No such file or directory: 'ENDFB-VII1_Fe-56_MT_102.csv'",
       "output_type": "pyerr",
       "traceback": [
        "\u001b[0;31m---------------------------------------------------------------------------\u001b[0m\n\u001b[0;31mIOError\u001b[0m                                   Traceback (most recent call last)",
        "\u001b[0;32m<ipython-input-6-e0d2ddf2a3a2>\u001b[0m in \u001b[0;36m<module>\u001b[0;34m()\u001b[0m\n\u001b[1;32m      3\u001b[0m \u001b[0mxs_energy\u001b[0m \u001b[0;34m=\u001b[0m \u001b[0;34m[\u001b[0m\u001b[0;34m]\u001b[0m\u001b[0;34m\u001b[0m\u001b[0m\n\u001b[1;32m      4\u001b[0m \u001b[0mxs_micros\u001b[0m \u001b[0;34m=\u001b[0m \u001b[0;34m[\u001b[0m\u001b[0;34m]\u001b[0m\u001b[0;34m\u001b[0m\u001b[0m\n\u001b[0;32m----> 5\u001b[0;31m \u001b[0;32mwith\u001b[0m \u001b[0mopen\u001b[0m\u001b[0;34m(\u001b[0m\u001b[0;34m'ENDFB-VII1_Fe-56_MT_102.csv'\u001b[0m\u001b[0;34m,\u001b[0m \u001b[0;34m'rb'\u001b[0m\u001b[0;34m)\u001b[0m \u001b[0;32mas\u001b[0m \u001b[0mcsvfile\u001b[0m\u001b[0;34m:\u001b[0m\u001b[0;34m\u001b[0m\u001b[0m\n\u001b[0m\u001b[1;32m      6\u001b[0m     \u001b[0mxsdata\u001b[0m \u001b[0;34m=\u001b[0m \u001b[0mcsv\u001b[0m\u001b[0;34m.\u001b[0m\u001b[0mreader\u001b[0m\u001b[0;34m(\u001b[0m\u001b[0mcsvfile\u001b[0m\u001b[0;34m,\u001b[0m \u001b[0mdelimiter\u001b[0m\u001b[0;34m=\u001b[0m\u001b[0;34m','\u001b[0m\u001b[0;34m)\u001b[0m\u001b[0;34m\u001b[0m\u001b[0m\n\u001b[1;32m      7\u001b[0m     \u001b[0;32mfor\u001b[0m \u001b[0mrow\u001b[0m \u001b[0;32min\u001b[0m \u001b[0mxsdata\u001b[0m\u001b[0;34m:\u001b[0m\u001b[0;34m\u001b[0m\u001b[0m\n",
        "\u001b[0;31mIOError\u001b[0m: [Errno 2] No such file or directory: 'ENDFB-VII1_Fe-56_MT_102.csv'"
       ]
      }
     ],
     "prompt_number": 6
    },
    {
     "cell_type": "code",
     "collapsed": false,
     "input": [],
     "language": "python",
     "metadata": {},
     "outputs": []
    }
   ],
   "metadata": {}
  }
 ]
}
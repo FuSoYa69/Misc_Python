{
 "cells": [
  {
   "cell_type": "markdown",
   "metadata": {},
   "source": [
    "# 1-D Finite Element"
   ]
  },
  {
   "cell_type": "code",
   "execution_count": 38,
   "metadata": {
    "collapsed": false
   },
   "outputs": [
    {
     "name": "stdout",
     "output_type": "stream",
     "text": [
      "Populating the interactive namespace from numpy and matplotlib\n"
     ]
    }
   ],
   "source": [
    "%pylab inline \n",
    "import matplotlib.pyplot as plt\n",
    "import numpy as np"
   ]
  },
  {
   "cell_type": "code",
   "execution_count": 49,
   "metadata": {
    "collapsed": false
   },
   "outputs": [
    {
     "data": {
      "image/png": "[encoded data removed]",
      "text/plain": [
       "<matplotlib.figure.Figure at 0x10ce15240>"
      ]
     },
     "metadata": {},
     "output_type": "display_data"
    }
   ],
   "source": [
    "L = 1            # Length in meters\n",
    "n = 20           # Number of nodes\n",
    "Le = L / (n - 1) # Element lengths\n",
    "\n",
    "kd = 2           # Thermal conductivity\n",
    "f0 = 50          # Heat production per unit length\n",
    "\n",
    "T0 = 30;         # Dirichlet boundary at node 1\n",
    "qL = 10;         # Neumann boundary at end node\n",
    "\n",
    "# Construct system of equations.\n",
    "vkg = np.zeros((n,n))\n",
    "vfg = np.zeros((n,1))\n",
    "c = kd / Le\n",
    "\n",
    "vke = np.array([[c, -c],[-c, c]])\n",
    "vfe = f0 * Le / 2 * np.array([[1],[1]])\n",
    "\n",
    "for i in range(1,n):\n",
    "    pass\n",
    "    \n",
    "x = np.linspace(0,L)\n",
    "exact_sol = -0.5 * f0 / kd * x**2 + (f0 * L - qL) / kd * x\n",
    "plt.plot(x,exact_sol)\n",
    "plt.xlabel('Position [m]')\n",
    "plt.ylabel('Temperature [°C]')\n",
    "plt.show()"
   ]
  },
  {
   "cell_type": "code",
   "execution_count": null,
   "metadata": {
    "collapsed": true
   },
   "outputs": [],
   "source": []
  }
 ],
 "metadata": {
  "kernelspec": {
   "display_name": "Python 3",
   "language": "python",
   "name": "python3"
  },
  "language_info": {
   "codemirror_mode": {
    "name": "ipython",
    "version": 3
   },
   "file_extension": ".py",
   "mimetype": "text/x-python",
   "name": "python",
   "nbconvert_exporter": "python",
   "pygments_lexer": "ipython3",
   "version": "3.4.3"
  }
 },
 "nbformat": 4,
 "nbformat_minor": 0
}

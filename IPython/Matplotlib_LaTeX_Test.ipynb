{
 "metadata": {
  "name": "",
  "signature": "sha256:7fddcfa00b615801f58ce97231fa0017c9d28c1e4694a86796262966631baaf7"
 },
 "nbformat": 3,
 "nbformat_minor": 0,
 "worksheets": [
  {
   "cells": [
    {
     "cell_type": "code",
     "collapsed": false,
     "input": [
      "%matplotlib inline\n",
      "import matplotlib.pyplot as plt\n",
      "\n",
      "plt.rcParams['text.latex.preamble']=[r\"\\usepackage{lmodern}\"]\n",
      "params = {'text.usetex' : True,\n",
      "          'font.size' : 11,\n",
      "          'font.family' : 'lmodern',\n",
      "          'text.latex.unicode': True,\n",
      "          }\n",
      "plt.rcParams.update(params) \n",
      "\n",
      "fig = plt.figure()\n",
      "\n",
      "#You must select the correct size of the plot in advance\n",
      "fig.set_size_inches(5,5) \n",
      "\n",
      "plt.plot([1,2,3,4])\n",
      "plt.xlabel(r\"x label\")\n",
      "plt.ylabel(r\"y label $\\left(\\Sigma^{-1}\\right)$\")\n",
      "plt.show();\n",
      "\n",
      "#plt.savefig(\"graph.pdf\",dpi=1000, bbox_inches='tight')\n"
     ],
     "language": "python",
     "metadata": {},
     "outputs": [
      {
       "metadata": {},
       "output_type": "display_data",
       "png": "[encoded data removed]",
       "text": [
        "<matplotlib.figure.Figure at 0x10fe4c1d0>"
       ]
      }
     ],
     "prompt_number": 15
    },
    {
     "cell_type": "code",
     "collapsed": false,
     "input": [],
     "language": "python",
     "metadata": {},
     "outputs": [],
     "prompt_number": 5
    },
    {
     "cell_type": "code",
     "collapsed": false,
     "input": [],
     "language": "python",
     "metadata": {},
     "outputs": []
    }
   ],
   "metadata": {}
  }
 ]
}
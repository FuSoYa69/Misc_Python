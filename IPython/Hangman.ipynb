{
 "cells": [
  {
   "cell_type": "code",
   "execution_count": 133,
   "metadata": {
    "collapsed": true
   },
   "outputs": [],
   "source": [
    "books = [\n",
    "    'Genesis', \n",
    "    'Exodus',\n",
    "    'Leviticus',\n",
    "    'Numbers',\n",
    "    'Deuteronomy'\n",
    "]"
   ]
  },
  {
   "cell_type": "code",
   "execution_count": 140,
   "metadata": {
    "collapsed": true
   },
   "outputs": [],
   "source": [
    "def draw_hangman(step):\n",
    "    if(step == 0):\n",
    "        print('''\n",
    "   ____\n",
    "  |    |\n",
    "  |    \n",
    "  |    \n",
    "  |\n",
    "  |\n",
    " _|_\n",
    "''')\n",
    "    elif(step == 1):\n",
    "        print('''\n",
    "   ____\n",
    "  |    |\n",
    "  |    o\n",
    "  |    \n",
    "  |\n",
    "  |\n",
    " _|_\n",
    "''')\n",
    "    elif(step == 2):\n",
    "        print('''\n",
    "   ____\n",
    "  |    |\n",
    "  |    o\n",
    "  |    |\n",
    "  |    |\n",
    "  |   \n",
    " _|_\n",
    "''') \n",
    "    elif(step == 3):\n",
    "        print('''\n",
    "   ____\n",
    "  |    |\n",
    "  |    o\n",
    "  |    |\n",
    "  |    |\n",
    "  |   /\n",
    " _|_\n",
    "''') \n",
    "    elif(step == 4):\n",
    "        print('''\n",
    "   ____\n",
    "  |    |\n",
    "  |    o\n",
    "  |    |\n",
    "  |    |\n",
    "  |   / \\\\\n",
    " _|_\n",
    "''') \n",
    "    elif(step == 5):\n",
    "        print('''\n",
    "   ____\n",
    "  |    |\n",
    "  |    o\n",
    "  |   /|\n",
    "  |    |\n",
    "  |   / \\\\\n",
    " _|_\n",
    "''') \n",
    "    elif(step == 6):\n",
    "        print('''\n",
    "   ____\n",
    "  |    |\n",
    "  |    o\n",
    "  |   /|\\\\\n",
    "  |    |\n",
    "  |   / \\\\\n",
    " _|_\n",
    "''')\n",
    "        return(True)\n",
    "    return(False)\n"
   ]
  },
  {
   "cell_type": "code",
   "execution_count": 135,
   "metadata": {
    "collapsed": false
   },
   "outputs": [],
   "source": [
    "def make_game(word_list):\n",
    "    import random\n",
    "    chosen_word = random.choice(word_list)\n",
    "    chosen_word_len = len(chosen_word)\n",
    "    current_word = ['_' for l in range(chosen_word_len)]\n",
    "    guesses = []\n",
    "    current_game = [chosen_word, current_word, guesses]\n",
    "    return(current_game)"
   ]
  },
  {
   "cell_type": "code",
   "execution_count": 136,
   "metadata": {
    "collapsed": false
   },
   "outputs": [],
   "source": [
    "def take_guess(current_game):\n",
    "    my_guess = input('Choose a letter: ')\n",
    "    answer = current_game[0].lower()\n",
    "    if(my_guess.lower() in answer):\n",
    "        print('Correct!')\n",
    "        positions = [position for position, guess in enumerate(answer) if guess == my_guess]\n",
    "        for p in positions:\n",
    "            current_game[1][p] = my_guess\n",
    "    else:\n",
    "        current_game[2].append(my_guess)\n",
    "    return(current_game)"
   ]
  },
  {
   "cell_type": "code",
   "execution_count": 137,
   "metadata": {
    "collapsed": true
   },
   "outputs": [],
   "source": [
    "def draw_game(current_game):\n",
    "    guesses = current_game[2]\n",
    "    g = len(guesses)\n",
    "    hung = draw_hangman(g)\n",
    "    print(' '.join([g for g in current_game[1]]))\n",
    "    print('')\n",
    "    \n",
    "    if(g > 0):\n",
    "        print('Past Guesses: ' + ', '.join([str(g) for g in guesses]))\n",
    "        \n",
    "    return(hung)"
   ]
  },
  {
   "cell_type": "code",
   "execution_count": null,
   "metadata": {
    "collapsed": false
   },
   "outputs": [
    {
     "name": "stdout",
     "output_type": "stream",
     "text": [
      "\n",
      "   ____\n",
      "  |    |\n",
      "  |    \n",
      "  |    \n",
      "  |\n",
      "  |\n",
      " _|_\n",
      "\n",
      "_ _ _ _ _ _ _\n",
      "\n"
     ]
    }
   ],
   "source": [
    "from IPython.display import clear_output\n",
    "\n",
    "current_game = make_game(books)\n",
    "draw_game(current_game)\n",
    "\n",
    "while(True):\n",
    "    current_game = take_guess(current_game)\n",
    "    clear_output()\n",
    "    hung = draw_game(current_game)\n",
    "    if(hung):\n",
    "        print('Sorry, you\\'ve been hung.')\n",
    "        break\n",
    "    if(''.join(current_game[1]).lower() == current_game[0].lower()):\n",
    "        print('You win!')\n",
    "        break\n",
    "    "
   ]
  },
  {
   "cell_type": "code",
   "execution_count": null,
   "metadata": {
    "collapsed": true
   },
   "outputs": [],
   "source": []
  }
 ],
 "metadata": {
  "kernelspec": {
   "display_name": "Python [Root]",
   "language": "python",
   "name": "Python [Root]"
  },
  "language_info": {
   "codemirror_mode": {
    "name": "ipython",
    "version": 3
   },
   "file_extension": ".py",
   "mimetype": "text/x-python",
   "name": "python",
   "nbconvert_exporter": "python",
   "pygments_lexer": "ipython3",
   "version": "3.5.2"
  }
 },
 "nbformat": 4,
 "nbformat_minor": 0
}
